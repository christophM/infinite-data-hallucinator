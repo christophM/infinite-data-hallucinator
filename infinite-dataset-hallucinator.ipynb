{
 "cells": [
  {
   "cell_type": "code",
   "execution_count": null,
   "id": "4fd809c1",
   "metadata": {},
   "outputs": [],
   "source": [
    "import pandas as pd\n",
    "import openai\n",
    "import os"
   ]
  },
  {
   "cell_type": "markdown",
   "id": "12baa08f",
   "metadata": {},
   "source": [
    "# Connect with OpenAI"
   ]
  },
  {
   "cell_type": "markdown",
   "id": "72bd2d04",
   "metadata": {},
   "source": [
    "To make this notebook work, you need an Open AI account and generate an API key. The API key has to be stored in an openai.key file."
   ]
  },
  {
   "cell_type": "code",
   "execution_count": null,
   "id": "fd2b657f",
   "metadata": {},
   "outputs": [],
   "source": [
    "with open(\"openai.key\") as f:\n",
    "    openai.api_key = f.read().strip()"
   ]
  },
  {
   "cell_type": "markdown",
   "id": "4745cb84",
   "metadata": {},
   "source": [
    "# Settings for the dataset"
   ]
  },
  {
   "cell_type": "code",
   "execution_count": null,
   "id": "bdd5e8fc",
   "metadata": {},
   "outputs": [],
   "source": [
    "n = 50\n",
    "p = 5\n",
    "dataset_name = \"Light Bulb Changes\""
   ]
  },
  {
   "cell_type": "markdown",
   "id": "d1d097a7",
   "metadata": {},
   "source": [
    "# Putting Together the Prompt"
   ]
  },
  {
   "cell_type": "markdown",
   "id": "76313261",
   "metadata": {},
   "source": [
    "By modifying the prompt, you can change the datasets that you get. Try for example \"type: classification\" or add a target variable"
   ]
  },
  {
   "cell_type": "code",
   "execution_count": null,
   "id": "19d01ae5",
   "metadata": {},
   "outputs": [],
   "source": [
    "prompt = \"\"\"%s\n",
    "\n",
    "Size: n=%s rows\n",
    "Number of features: %s\n",
    "\n",
    "This dataset is perfect for education, because it has a mix of\n",
    "numerical and categorical features, there are no missing values,\n",
    "and interesting correlations structures. Column names are all\n",
    "lower case and without special characters. The dataset is very\n",
    "realistic.\n",
    "\n",
    "Raw CSV file (first column is id, showing all n rows,\n",
    "just copy and paste everything between --- and ---):\n",
    "\n",
    "---\n",
    "\n",
    "\"\"\" % (dataset_name, n, p)"
   ]
  },
  {
   "cell_type": "markdown",
   "id": "cf0c1f79",
   "metadata": {},
   "source": [
    "# Make The Request And Get CSV"
   ]
  },
  {
   "cell_type": "code",
   "execution_count": null,
   "id": "1a6f2b7d",
   "metadata": {},
   "outputs": [],
   "source": [
    "response = openai.Completion.create(model=\"text-davinci-003\", prompt=prompt, temperature=0, max_tokens=3000, stop=\"---\")"
   ]
  },
  {
   "cell_type": "code",
   "execution_count": null,
   "id": "7e9d2f64",
   "metadata": {},
   "outputs": [],
   "source": [
    "result = response.choices[0].text"
   ]
  },
  {
   "cell_type": "code",
   "execution_count": null,
   "id": "91028bcd",
   "metadata": {},
   "outputs": [],
   "source": [
    "with open(r\"data.csv\", \"w\") as f:\n",
    "    f.write(result)"
   ]
  },
  {
   "cell_type": "markdown",
   "id": "92554cb6",
   "metadata": {},
   "source": [
    "# Inspect the Results"
   ]
  },
  {
   "cell_type": "code",
   "execution_count": null,
   "id": "d4fe1dfa",
   "metadata": {},
   "outputs": [],
   "source": [
    "dat = pd.read_csv(\"data.csv\", index_col = 0)\n",
    "dat.sample(5)"
   ]
  },
  {
   "cell_type": "markdown",
   "id": "c1c5dc6e",
   "metadata": {},
   "source": [
    "# Visualize data"
   ]
  },
  {
   "cell_type": "code",
   "execution_count": null,
   "id": "740be12a",
   "metadata": {},
   "outputs": [],
   "source": [
    "from dataprep.eda import create_report\n",
    "from dataprep.eda import plot\n",
    "from dataprep.eda import plot_correlation\n",
    "\n",
    "plot(dat, \"bulb_type\", \"hours_used\")"
   ]
  },
  {
   "cell_type": "code",
   "execution_count": null,
   "id": "1c0fde6b",
   "metadata": {},
   "outputs": [],
   "source": [
    "plot(dat)"
   ]
  },
  {
   "cell_type": "code",
   "execution_count": null,
   "id": "0e24786a",
   "metadata": {},
   "outputs": [],
   "source": [
    "plot_correlation(dat)"
   ]
  }
 ],
 "metadata": {
  "kernelspec": {
   "display_name": "Python 3 (ipykernel)",
   "language": "python",
   "name": "python3"
  },
  "language_info": {
   "codemirror_mode": {
    "name": "ipython",
    "version": 3
   },
   "file_extension": ".py",
   "mimetype": "text/x-python",
   "name": "python",
   "nbconvert_exporter": "python",
   "pygments_lexer": "ipython3",
   "version": "3.10.7"
  }
 },
 "nbformat": 4,
 "nbformat_minor": 5
}
